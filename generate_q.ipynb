{
  "cells": [
    {
      "cell_type": "code",
      "execution_count": null,
      "source": [
        "import random\n",
        "import uuid\n",
        "import datetime\n",
        "import csv"
      ],
      "outputs": [],
      "metadata": {
        "id": "xaZ3jQQ15cjo"
      }
    },
    {
      "cell_type": "code",
      "execution_count": null,
      "source": [
        "def random_date():\n",
        "    start = datetime.datetime.strptime('1/1/2000 1:30 PM', '%m/%d/%Y %I:%M %p')\n",
        "    end = datetime.datetime.strptime('1/1/2100 4:50 AM', '%m/%d/%Y %I:%M %p')\n",
        "    delta = end - start\n",
        "    int_delta = (delta.days * 24 * 60 * 60) + delta.seconds\n",
        "    random_second = random.randrange(int_delta)\n",
        "    return start + datetime.timedelta(seconds=random_second)"
      ],
      "outputs": [],
      "metadata": {
        "id": "p8yvfoBT5cjp"
      }
    },
    {
      "cell_type": "code",
      "execution_count": null,
      "source": [
        "print(random_date().date())"
      ],
      "outputs": [
        {
          "output_type": "stream",
          "name": "stdout",
          "text": [
            "2062-02-14\n"
          ]
        }
      ],
      "metadata": {
        "id": "_gYywn4U5cjp",
        "outputId": "75915866-5fe6-4c07-8e34-cb674bfc3a65",
        "colab": {
          "base_uri": "https://localhost:8080/"
        }
      }
    },
    {
      "cell_type": "code",
      "execution_count": 17,
      "source": [
        "Designation = [\"Researcher\" , \"Designer\" , \"Software Developer\" , \"Head of Marketing and Sales\", \"Project Manager\" , \"HR Manager\" ,\n",
        "      \"Business Development Manager\" , \"Administrative Officer\", \"Associate\" , \"Secretary\" , \"Accountant\" , \"Engineer\",  \"Analyst\" ]\n",
        "\n",
        "p_company = [\"1company\", \"2company\", \"3company\", \"4company\", \"5company\",\"6company\",\"7company\",\"8company\"]\n",
        "c_company = [\"NA\", \"1company\", \"2company\", \"3company\", \"4company\", \"5company\",\"6company\",\"7company\",\"8company\", \"9company\", \"10company\", \"11company\", \"12company\", \"13company\",\"14company\",\"15company\",\"16company\", \"17company\", \"18company\", \"19company\"]\n",
        "query='''\n",
        "  SET STATISTICS TIME ON;\n",
        "GO\n",
        "  select sp.ID, spd.vacancies, spd.total_ec\n",
        "\t\tfrom Main.dbo.Staffing_Plan_spd as spd join Main.dbo.Staffing_Plan_t as sp on spd.ID=sp.ID\n",
        "\t\twhere company='{{company}}' and spd.designation='{{designation}}'\n",
        "\t\tand to_date >= '{{date1}}' and from_date <= '{{date2}}'\n",
        "'''\n",
        "# SET STATISTICS TIME ON;\n",
        "# GO\n",
        "# select spd.vacancies as vacancies,\n",
        "# \t\t\tspd.total_ec as total_ec\n",
        "# \t\t\tfrom Main.dbo.Staffing_Plan_spd as spd join Main.dbo.Staffing_Plan_n as sp on spd.ID = sp.ID\n",
        "# \t\t\twhere designation='Secretary'  and sp.to_date >= '2000-03-16 00:00:00.0000000' and\n",
        "# \t\t\tsp.from_date <= '2063-11-29 00:00:00.0000000'\n",
        "# \t\t\tand sp.company in (select name from Main.dbo.company_n where parent_company = '4company')\n",
        "\n",
        "for i in range(50):\n",
        "  d1=random_date()\n",
        "  d2=random_date()\n",
        "  while(d2<=d1):\n",
        "    d2=random_date()\n",
        "  fs=random.randint(1,10000)\n",
        "  de = random.randint(1,13)\n",
        "  pc = random.randint(1,8)\n",
        "  cc = random.randint(1,18)\n",
        "  qry=query.replace('{{date1}}',str(d1)).replace('{{date2}}',str(d2)).replace('{{designation}}',str(Designation[de-1])).replace('{{company}}' , str(c_company[cc-1]))\n",
        "  f=open(r\"/usr/query_2/query_two\"+str(i+1)+\".sql\",'w')\n",
        "  f.write(qry)\n",
        "  f.close()"
      ],
      "outputs": [],
      "metadata": {
        "id": "3k-W71-B5cjm"
      }
    },
    {
      "cell_type": "code",
      "source": [
        "p_company = [\"1company\", \"2company\", \"3company\", \"4company\", \"5company\",\"6company\",\"7company\",\"8company\"]\n",
        "c_company = [\"NA\", \"1company\", \"2company\", \"3company\", \"4company\", \"5company\",\"6company\",\"7company\",\"8company\", \"9company\", \"10company\", \"11company\", \"12company\", \"13company\",\"14company\",\"15company\",\"16company\", \"17company\", \"18company\", \"19company\"]\n",
        "query='''\n",
        "  SET STATISTICS TIME ON;\n",
        "GO\n",
        "select spd.vacancies as vacancies,\n",
        "\t\t\tspd.total_ec as total_ec\n",
        "\t\t\tfrom Main.dbo.Staffing_Plan_spd as spd join Main.dbo.Staffing_Plan_t as sp on spd.ID = sp.ID\n",
        "\t\t\twhere designation='{{designation}}'  and sp.to_date >= '{{date1}}' and\n",
        "\t\t\tsp.from_date <= '{{date2}}'\n",
        "\t\t\tand sp.company in (select name from Main.dbo.company_n where parent_company = '{{company}}')\n",
        "\n",
        "\n",
        "'''\n",
        "\n",
        "\n",
        "for i in range(50):\n",
        "  d1=random_date()\n",
        "  d2=random_date()\n",
        "  while(d2<=d1):\n",
        "    d2=random_date()\n",
        "  fs=random.randint(1,10000)\n",
        "  de = random.randint(1,13)\n",
        "  pc = random.randint(1,8)\n",
        "  cc = random.randint(1,18)\n",
        "  qry=query.replace('{{date1}}',str(d1)).replace('{{date2}}',str(d2)).replace('{{designation}}',str(Designation[de-1])).replace('{{company}}' , str(p_company[pc-1]))\n",
        "  f=open(r\"/usr/query_1/query_one\"+str(i+1)+\".sql\",'w')\n",
        "  f.write(qry)\n",
        "  f.close()"
      ],
      "metadata": {
        "id": "nP_ZYqrlZVg3"
      },
      "execution_count": null,
      "outputs": []
    },
    {
      "cell_type": "code",
      "source": [
        "\n",
        "\n",
        "p_company = [\"1company\", \"2company\", \"3company\", \"4company\", \"5company\",\"6company\",\"7company\",\"8company\"]\n",
        "c_company = [\"NA\", \"1company\", \"2company\", \"3company\", \"4company\", \"5company\",\"6company\",\"7company\",\"8company\", \"9company\", \"10company\", \"11company\", \"12company\", \"13company\",\"14company\",\"15company\",\"16company\", \"17company\", \"18company\", \"19company\"]\n",
        "query='''\n",
        "  SET STATISTICS TIME ON;\n",
        "GO\n",
        "  select spd.ID\n",
        "\t\t\tfrom Main.dbo.Staffing_Plan_spd as spd join Main.dbo.Staffing_Plan_t as sp on spd.ID = sp.ID\n",
        "\t\t\twhere spd.designation= '{{designation}}'\n",
        "\t\t\tand sp.to_date >= '{{date1}}' and sp.from_date <= '{{date2}}' and sp.company = '{{company}}'\n",
        "'''\n",
        "\n",
        "\n",
        "for i in range(50):\n",
        "  d1=random_date()\n",
        "  d2=random_date()\n",
        "  while(d2<=d1):\n",
        "    d2=random_date()\n",
        "  fs=random.randint(1,10000)\n",
        "  de = random.randint(1,13)\n",
        "  pc = random.randint(1,8)\n",
        "  cc = random.randint(1,18)\n",
        "  qry=query.replace('{{date1}}',str(d1)).replace('{{date2}}',str(d2)).replace('{{designation}}',str(Designation[de-1])).replace('{{company}}' , str(c_company[cc-1]))\n",
        "  f=open(r\"/usr/query_3/query_thr\"+str(i+1)+\".sql\",'w')\n",
        "  f.write(qry)\n",
        "  f.close()"
      ],
      "metadata": {
        "id": "lJpAMWonZ9Mg"
      },
      "execution_count": 22,
      "outputs": []
    },
    {
      "cell_type": "code",
      "source": [
        "!zip -r /usr/query_3.zip /usr/query_3\n"
      ],
      "metadata": {
        "colab": {
          "base_uri": "https://localhost:8080/"
        },
        "id": "o5gD8JT12a2C",
        "outputId": "fb266bc7-c6fb-4253-b70a-c9361f551e5b"
      },
      "execution_count": 23,
      "outputs": [
        {
          "output_type": "stream",
          "name": "stdout",
          "text": [
            "updating: usr/query_3/ (stored 0%)\n",
            "updating: usr/query_3/query_thr40.sql (deflated 30%)\n",
            "updating: usr/query_3/query_thr12.sql (deflated 31%)\n",
            "updating: usr/query_3/query_thr4.sql (deflated 31%)\n",
            "updating: usr/query_3/query_thr46.sql (deflated 32%)\n",
            "updating: usr/query_3/query_thr2.sql (deflated 32%)\n",
            "updating: usr/query_3/query_thr13.sql (deflated 31%)\n",
            "updating: usr/query_3/query_thr27.sql (deflated 33%)\n",
            "updating: usr/query_3/query_thr10.sql (deflated 30%)\n",
            "updating: usr/query_3/query_thr36.sql (deflated 31%)\n",
            "updating: usr/query_3/query_thr45.sql (deflated 31%)\n",
            "updating: usr/query_3/query_thr20.sql (deflated 31%)\n",
            "updating: usr/query_3/query_thr48.sql (deflated 31%)\n",
            "updating: usr/query_3/query_thr15.sql (deflated 31%)\n",
            "updating: usr/query_3/query_thr23.sql (deflated 32%)\n",
            "updating: usr/query_3/query_thr24.sql (deflated 31%)\n",
            "updating: usr/query_3/query_thr34.sql (deflated 32%)\n",
            "updating: usr/query_3/query_thr42.sql (deflated 30%)\n",
            "updating: usr/query_3/query_thr26.sql (deflated 30%)\n",
            "updating: usr/query_3/query_thr30.sql (deflated 30%)\n",
            "updating: usr/query_3/query_thr43.sql (deflated 32%)\n",
            "updating: usr/query_3/query_thr21.sql (deflated 31%)\n",
            "updating: usr/query_3/query_thr18.sql (deflated 32%)\n",
            "updating: usr/query_3/query_thr49.sql (deflated 31%)\n",
            "updating: usr/query_3/query_thr3.sql (deflated 31%)\n",
            "updating: usr/query_3/query_thr38.sql (deflated 31%)\n",
            "updating: usr/query_3/query_thr35.sql (deflated 31%)\n",
            "updating: usr/query_3/query_thr17.sql (deflated 32%)\n",
            "updating: usr/query_3/query_thr5.sql (deflated 30%)\n",
            "updating: usr/query_3/query_thr47.sql (deflated 32%)\n",
            "updating: usr/query_3/query_thr1.sql (deflated 32%)\n",
            "updating: usr/query_3/query_thr31.sql (deflated 31%)\n",
            "updating: usr/query_3/query_thr22.sql (deflated 31%)\n",
            "updating: usr/query_3/query_thr7.sql (deflated 31%)\n",
            "updating: usr/query_3/query_thr11.sql (deflated 32%)\n",
            "updating: usr/query_3/query_thr41.sql (deflated 32%)\n",
            "updating: usr/query_3/query_thr14.sql (deflated 31%)\n",
            "updating: usr/query_3/query_thr25.sql (deflated 31%)\n",
            "updating: usr/query_3/query_thr19.sql (deflated 31%)\n",
            "updating: usr/query_3/query_thr6.sql (deflated 31%)\n",
            "updating: usr/query_3/query_thr33.sql (deflated 31%)\n",
            "updating: usr/query_3/query_thr16.sql (deflated 31%)\n",
            "updating: usr/query_3/query_thr50.sql (deflated 30%)\n",
            "updating: usr/query_3/query_thr8.sql (deflated 31%)\n",
            "updating: usr/query_3/query_thr44.sql (deflated 31%)\n",
            "updating: usr/query_3/query_thr37.sql (deflated 31%)\n",
            "updating: usr/query_3/query_thr9.sql (deflated 31%)\n",
            "updating: usr/query_3/query_thr32.sql (deflated 31%)\n",
            "updating: usr/query_3/query_thr29.sql (deflated 31%)\n",
            "updating: usr/query_3/query_thr28.sql (deflated 31%)\n",
            "updating: usr/query_3/query_thr39.sql (deflated 30%)\n"
          ]
        }
      ]
    }
  ],
  "metadata": {
    "orig_nbformat": 4,
    "language_info": {
      "name": "python",
      "version": "3.7.4",
      "mimetype": "text/x-python",
      "codemirror_mode": {
        "name": "ipython",
        "version": 3
      },
      "pygments_lexer": "ipython3",
      "nbconvert_exporter": "python",
      "file_extension": ".py"
    },
    "kernelspec": {
      "name": "python3",
      "display_name": "Python 3.7.4 64-bit ('base': conda)"
    },
    "interpreter": {
      "hash": "a5e9669fc23686289bab8faee75cf5c458b29840ff2a1c38e2ed113a10858e16"
    },
    "colab": {
      "name": "query_sc.ipynb",
      "provenance": [],
      "collapsed_sections": []
    }
  },
  "nbformat": 4,
  "nbformat_minor": 0
}
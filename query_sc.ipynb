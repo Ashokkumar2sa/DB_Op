{
  "cells": [
    {
      "cell_type": "code",
      "execution_count": null,
      "source": [
        "import random\n",
        "import uuid\n",
        "import datetime\n",
        "import csv"
      ],
      "outputs": [],
      "metadata": {
        "id": "xaZ3jQQ15cjo"
      }
    },
    {
      "cell_type": "code",
      "execution_count": null,
      "source": [
        "def random_date():\n",
        "    start = datetime.datetime.strptime('1/1/2000 1:30 PM', '%m/%d/%Y %I:%M %p')\n",
        "    end = datetime.datetime.strptime('1/1/2100 4:50 AM', '%m/%d/%Y %I:%M %p')\n",
        "    delta = end - start\n",
        "    int_delta = (delta.days * 24 * 60 * 60) + delta.seconds\n",
        "    random_second = random.randrange(int_delta)\n",
        "    return start + datetime.timedelta(seconds=random_second)"
      ],
      "outputs": [],
      "metadata": {
        "id": "p8yvfoBT5cjp"
      }
    },
    {
      "cell_type": "code",
      "execution_count": null,
      "source": [
        "print(random_date().date())"
      ],
      "outputs": [
        {
          "output_type": "stream",
          "name": "stdout",
          "text": [
            "2087-09-09\n"
          ]
        }
      ],
      "metadata": {
        "id": "_gYywn4U5cjp",
        "outputId": "3df0008d-1820-451f-90ba-530321b915dc",
        "colab": {
          "base_uri": "https://localhost:8080/"
        }
      }
    },
    {
      "cell_type": "code",
      "execution_count": 20,
      "source": [
        "Designation = [\"Researcher\" , \"Designer\" , \"Software Developer\" , \"Head of Marketing and Sales\", \"Project Manager\" , \"HR Manager\" ,\n",
        "      \"Business Development Manager\" , \"Administrative Officer\", \"Associate\" , \"Secretary\" , \"Accountant\" , \"Engineer\",  \"Analyst\" ]\n",
        "\n",
        "p_company = [\"1company\", \"2company\", \"3company\", \"4company\", \"5company\",\"6company\",\"7company\",\"8company\"]\n",
        "c_company = [\"NA\", \"1company\", \"2company\", \"3company\", \"4company\", \"5company\",\"6company\",\"7company\",\"8company\", \"9company\", \"10company\", \"11company\", \"12company\", \"13company\",\"14company\",\"15company\",\"16company\", \"17company\", \"18company\", \"19company\"]\n",
        "query='''\n",
        "  select sp.name, spd.vacancies, spd.total_estimated_cost\n",
        "\t\tfrom `tabStaffing Plan Detail` spd join `tabStaffing Plan` sp on spd.parent=sp.name\n",
        "\t\twhere company='{{company}}' and spd.designation='{{designation}}'\n",
        "\t\tand to_date >= '{{date1}}' and from_date <= '{{date2}}'\n",
        "'''\n",
        "# select sum(spd.vacancies) as vacancies,\n",
        "# \t\t\tsum(spd.total_estimated_cost) as total_estimated_cost\n",
        "# \t\t\tfrom `tabStaffing Plan Detail` spd join `tabStaffing Plan` sp on spd.parent=sp.name\n",
        "# \t\t\twhere spd.designation= '{{designation}}' \n",
        "# \t\t\tand sp.to_date >= '{{date1}}' and sp.from_date <= '{{date2}}'\n",
        "# \t\t\tand sp.company in (select name from tabCompany where parent_company = '{{company}}')\n",
        "\n",
        "for i in range(50):\n",
        "  d1=random_date()\n",
        "  d2=random_date()\n",
        "  while(d2<=d1):\n",
        "    d2=random_date()\n",
        "  fs=random.randint(1,10000)\n",
        "  de = random.randint(1,13)\n",
        "  pc = random.randint(1,8)\n",
        "  cc = random.randint(1,18)\n",
        "  qry=query.replace('{{date1}}',str(d1)).replace('{{date2}}',str(d2)).replace('{{designation}}',str(Designation[de-1])).replace('{{company}}' , str(c_company[cc-1]))\n",
        "  f=open(r\"/usr/query_2/query_two\"+str(i+1)+\".sql\",'w')\n",
        "  f.write(qry)\n",
        "  f.close()"
      ],
      "outputs": [],
      "metadata": {
        "id": "3k-W71-B5cjm"
      }
    },
    {
      "cell_type": "code",
      "source": [
        "p_company = [\"1company\", \"2company\", \"3company\", \"4company\", \"5company\",\"6company\",\"7company\",\"8company\"]\n",
        "c_company = [\"NA\", \"1company\", \"2company\", \"3company\", \"4company\", \"5company\",\"6company\",\"7company\",\"8company\", \"9company\", \"10company\", \"11company\", \"12company\", \"13company\",\"14company\",\"15company\",\"16company\", \"17company\", \"18company\", \"19company\"]\n",
        "query='''\n",
        "  select sum(spd.vacancies) as vacancies,\n",
        "\t\t\tsum(spd.total_estimated_cost) as total_estimated_cost\n",
        "\t\t\tfrom `tabStaffing Plan Detail` spd join `tabStaffing Plan` sp on spd.parent=sp.name\n",
        "\t\t\twhere spd.designation= '{{designation}}' \n",
        "\t\t\tand sp.to_date >= '{{date1}}' and sp.from_date <= '{{date2}}'\n",
        "\t\t\tand sp.company in (select name from tabCompany where parent_company = '{{company}}')\n",
        "'''\n",
        "\n",
        "\n",
        "for i in range(50):\n",
        "  d1=random_date()\n",
        "  d2=random_date()\n",
        "  while(d2<=d1):\n",
        "    d2=random_date()\n",
        "  fs=random.randint(1,10000)\n",
        "  de = random.randint(1,13)\n",
        "  pc = random.randint(1,8)\n",
        "  cc = random.randint(1,18)\n",
        "  qry=query.replace('{{date1}}',str(d1)).replace('{{date2}}',str(d2)).replace('{{designation}}',str(Designation[de-1])).replace('{{company}}' , str(p_company[pc-1]))\n",
        "  f=open(r\"/usr/query_1/query_one\"+str(i+1)+\".sql\",'w')\n",
        "  f.write(qry)\n",
        "  f.close()"
      ],
      "metadata": {
        "id": "nP_ZYqrlZVg3"
      },
      "execution_count": 21,
      "outputs": []
    },
    {
      "cell_type": "code",
      "source": [
        "\n",
        "\n",
        "p_company = [\"1company\", \"2company\", \"3company\", \"4company\", \"5company\",\"6company\",\"7company\",\"8company\"]\n",
        "c_company = [\"NA\", \"1company\", \"2company\", \"3company\", \"4company\", \"5company\",\"6company\",\"7company\",\"8company\", \"9company\", \"10company\", \"11company\", \"12company\", \"13company\",\"14company\",\"15company\",\"16company\", \"17company\", \"18company\", \"19company\"]\n",
        "query='''\n",
        "  select spd.parent\n",
        "\t\t\tfrom `tabStaffing Plan Detail` spd join `tabStaffing Plan` sp on spd.parent=sp.name\n",
        "\t\t\twhere spd.designation= '{{designation}}'\n",
        "\t\t\tand sp.to_date >= '{{date1}}' and sp.from_date <= '{{date2}}' and sp.company = '{{company}}'\n",
        "'''\n",
        "\n",
        "\n",
        "for i in range(50):\n",
        "  d1=random_date()\n",
        "  d2=random_date()\n",
        "  while(d2<=d1):\n",
        "    d2=random_date()\n",
        "  fs=random.randint(1,10000)\n",
        "  de = random.randint(1,13)\n",
        "  pc = random.randint(1,8)\n",
        "  cc = random.randint(1,18)\n",
        "  qry=query.replace('{{date1}}',str(d1)).replace('{{date2}}',str(d2)).replace('{{designation}}',str(Designation[de-1])).replace('{{company}}' , str(c_company[cc-1]))\n",
        "  f=open(r\"/usr/query_3/query_thr\"+str(i+1)+\".sql\",'w')\n",
        "  f.write(qry)\n",
        "  f.close()"
      ],
      "metadata": {
        "id": "lJpAMWonZ9Mg"
      },
      "execution_count": 22,
      "outputs": []
    },
    {
      "cell_type": "code",
      "source": [
        "!zip -r /usr/query_1.zip /usr/query_1\n",
        "!zip -r /usr/query_2.zip /usr/query_2\n",
        "!zip -r /usr/query_3.zip /usr/query_3"
      ],
      "metadata": {
        "colab": {
          "base_uri": "https://localhost:8080/"
        },
        "id": "o5gD8JT12a2C",
        "outputId": "8ee417fc-38d8-4e05-c4f6-606148118284"
      },
      "execution_count": 23,
      "outputs": [
        {
          "output_type": "stream",
          "name": "stdout",
          "text": [
            "  adding: usr/query_1/ (stored 0%)\n",
            "  adding: usr/query_1/query_one16.sql (deflated 39%)\n",
            "  adding: usr/query_1/query_one49.sql (deflated 40%)\n",
            "  adding: usr/query_1/query_one9.sql (deflated 40%)\n",
            "  adding: usr/query_1/query_one3.sql (deflated 39%)\n",
            "  adding: usr/query_1/query_one14.sql (deflated 40%)\n",
            "  adding: usr/query_1/query_one26.sql (deflated 39%)\n",
            "  adding: usr/query_1/query_one22.sql (deflated 40%)\n",
            "  adding: usr/query_1/query_one2.sql (deflated 40%)\n",
            "  adding: usr/query_1/query_one34.sql (deflated 40%)\n",
            "  adding: usr/query_1/query_one20.sql (deflated 40%)\n",
            "  adding: usr/query_1/query_one5.sql (deflated 40%)\n",
            "  adding: usr/query_1/query_one43.sql (deflated 40%)\n",
            "  adding: usr/query_1/query_one31.sql (deflated 39%)\n",
            "  adding: usr/query_1/query_one45.sql (deflated 39%)\n",
            "  adding: usr/query_1/query_one28.sql (deflated 40%)\n",
            "  adding: usr/query_1/query_one47.sql (deflated 40%)\n",
            "  adding: usr/query_1/query_one1.sql (deflated 39%)\n",
            "  adding: usr/query_1/query_one21.sql (deflated 39%)\n",
            "  adding: usr/query_1/query_one8.sql (deflated 40%)\n",
            "  adding: usr/query_1/query_one42.sql (deflated 39%)\n",
            "  adding: usr/query_1/query_one13.sql (deflated 39%)\n",
            "  adding: usr/query_1/query_one19.sql (deflated 40%)\n",
            "  adding: usr/query_1/query_one10.sql (deflated 40%)\n",
            "  adding: usr/query_1/query_one24.sql (deflated 39%)\n",
            "  adding: usr/query_1/query_one18.sql (deflated 39%)\n",
            "  adding: usr/query_1/query_one35.sql (deflated 40%)\n",
            "  adding: usr/query_1/query_one23.sql (deflated 40%)\n",
            "  adding: usr/query_1/query_one6.sql (deflated 40%)\n",
            "  adding: usr/query_1/query_one32.sql (deflated 40%)\n",
            "  adding: usr/query_1/query_one27.sql (deflated 40%)\n",
            "  adding: usr/query_1/query_one4.sql (deflated 39%)\n",
            "  adding: usr/query_1/query_one44.sql (deflated 39%)\n",
            "  adding: usr/query_1/query_one48.sql (deflated 39%)\n",
            "  adding: usr/query_1/query_one50.sql (deflated 39%)\n",
            "  adding: usr/query_1/query_one17.sql (deflated 39%)\n",
            "  adding: usr/query_1/query_one12.sql (deflated 40%)\n",
            "  adding: usr/query_1/query_one11.sql (deflated 40%)\n",
            "  adding: usr/query_1/query_one38.sql (deflated 39%)\n",
            "  adding: usr/query_1/query_one30.sql (deflated 40%)\n",
            "  adding: usr/query_1/query_one36.sql (deflated 39%)\n",
            "  adding: usr/query_1/query_one40.sql (deflated 39%)\n",
            "  adding: usr/query_1/query_one33.sql (deflated 40%)\n",
            "  adding: usr/query_1/query_one37.sql (deflated 39%)\n",
            "  adding: usr/query_1/query_one29.sql (deflated 39%)\n",
            "  adding: usr/query_1/query_one15.sql (deflated 39%)\n",
            "  adding: usr/query_1/query_one41.sql (deflated 40%)\n",
            "  adding: usr/query_1/query_one39.sql (deflated 40%)\n",
            "  adding: usr/query_1/query_one46.sql (deflated 39%)\n",
            "  adding: usr/query_1/query_one25.sql (deflated 40%)\n",
            "  adding: usr/query_1/query_one7.sql (deflated 40%)\n",
            "  adding: usr/query_2/ (stored 0%)\n",
            "  adding: usr/query_2/query_two25.sql (deflated 30%)\n",
            "  adding: usr/query_2/query_two30.sql (deflated 31%)\n",
            "  adding: usr/query_2/query_two5.sql (deflated 30%)\n",
            "  adding: usr/query_2/query_two22.sql (deflated 30%)\n",
            "  adding: usr/query_2/query_two1.sql (deflated 29%)\n",
            "  adding: usr/query_2/query_two29.sql (deflated 30%)\n",
            "  adding: usr/query_2/query_two37.sql (deflated 32%)\n",
            "  adding: usr/query_2/query_two34.sql (deflated 30%)\n",
            "  adding: usr/query_2/query_two3.sql (deflated 31%)\n",
            "  adding: usr/query_2/query_two2.sql (deflated 30%)\n",
            "  adding: usr/query_2/query_two31.sql (deflated 30%)\n",
            "  adding: usr/query_2/query_two36.sql (deflated 30%)\n",
            "  adding: usr/query_2/query_two20.sql (deflated 30%)\n",
            "  adding: usr/query_2/query_two6.sql (deflated 30%)\n",
            "  adding: usr/query_2/query_two7.sql (deflated 32%)\n",
            "  adding: usr/query_2/query_two44.sql (deflated 29%)\n",
            "  adding: usr/query_2/query_two10.sql (deflated 29%)\n",
            "  adding: usr/query_2/query_two11.sql (deflated 30%)\n",
            "  adding: usr/query_2/query_two49.sql (deflated 31%)\n",
            "  adding: usr/query_2/query_two24.sql (deflated 29%)\n",
            "  adding: usr/query_2/query_two45.sql (deflated 30%)\n",
            "  adding: usr/query_2/query_two8.sql (deflated 29%)\n",
            "  adding: usr/query_2/query_two48.sql (deflated 31%)\n",
            "  adding: usr/query_2/query_two12.sql (deflated 29%)\n",
            "  adding: usr/query_2/query_two35.sql (deflated 29%)\n",
            "  adding: usr/query_2/query_two46.sql (deflated 30%)\n",
            "  adding: usr/query_2/query_two32.sql (deflated 29%)\n",
            "  adding: usr/query_2/query_two27.sql (deflated 30%)\n",
            "  adding: usr/query_2/query_two15.sql (deflated 31%)\n",
            "  adding: usr/query_2/query_two42.sql (deflated 28%)\n",
            "  adding: usr/query_2/query_two21.sql (deflated 30%)\n",
            "  adding: usr/query_2/query_two41.sql (deflated 30%)\n",
            "  adding: usr/query_2/query_two33.sql (deflated 30%)\n",
            "  adding: usr/query_2/query_two14.sql (deflated 29%)\n",
            "  adding: usr/query_2/query_two4.sql (deflated 30%)\n",
            "  adding: usr/query_2/query_two18.sql (deflated 31%)\n",
            "  adding: usr/query_2/query_two13.sql (deflated 30%)\n",
            "  adding: usr/query_2/query_two23.sql (deflated 29%)\n",
            "  adding: usr/query_2/query_two19.sql (deflated 29%)\n",
            "  adding: usr/query_2/query_two28.sql (deflated 30%)\n",
            "  adding: usr/query_2/query_two9.sql (deflated 30%)\n",
            "  adding: usr/query_2/query_two47.sql (deflated 30%)\n",
            "  adding: usr/query_2/query_two39.sql (deflated 30%)\n",
            "  adding: usr/query_2/query_two43.sql (deflated 30%)\n",
            "  adding: usr/query_2/query_two26.sql (deflated 30%)\n",
            "  adding: usr/query_2/query_two38.sql (deflated 29%)\n",
            "  adding: usr/query_2/query_two17.sql (deflated 33%)\n",
            "  adding: usr/query_2/query_two16.sql (deflated 30%)\n",
            "  adding: usr/query_2/query_two50.sql (deflated 30%)\n",
            "  adding: usr/query_2/query_two40.sql (deflated 29%)\n",
            "  adding: usr/query_3/ (stored 0%)\n",
            "  adding: usr/query_3/query_thr12.sql (deflated 31%)\n",
            "  adding: usr/query_3/query_thr35.sql (deflated 33%)\n",
            "  adding: usr/query_3/query_thr15.sql (deflated 33%)\n",
            "  adding: usr/query_3/query_thr37.sql (deflated 32%)\n",
            "  adding: usr/query_3/query_thr43.sql (deflated 31%)\n",
            "  adding: usr/query_3/query_thr30.sql (deflated 32%)\n",
            "  adding: usr/query_3/query_thr17.sql (deflated 32%)\n",
            "  adding: usr/query_3/query_thr42.sql (deflated 34%)\n",
            "  adding: usr/query_3/query_thr1.sql (deflated 33%)\n",
            "  adding: usr/query_3/query_thr48.sql (deflated 33%)\n",
            "  adding: usr/query_3/query_thr8.sql (deflated 33%)\n",
            "  adding: usr/query_3/query_thr50.sql (deflated 33%)\n",
            "  adding: usr/query_3/query_thr7.sql (deflated 32%)\n",
            "  adding: usr/query_3/query_thr9.sql (deflated 33%)\n",
            "  adding: usr/query_3/query_thr13.sql (deflated 33%)\n",
            "  adding: usr/query_3/query_thr26.sql (deflated 33%)\n",
            "  adding: usr/query_3/query_thr45.sql (deflated 34%)\n",
            "  adding: usr/query_3/query_thr2.sql (deflated 33%)\n",
            "  adding: usr/query_3/query_thr24.sql (deflated 33%)\n",
            "  adding: usr/query_3/query_thr31.sql (deflated 31%)\n",
            "  adding: usr/query_3/query_thr38.sql (deflated 33%)\n",
            "  adding: usr/query_3/query_thr49.sql (deflated 34%)\n",
            "  adding: usr/query_3/query_thr36.sql (deflated 33%)\n",
            "  adding: usr/query_3/query_thr47.sql (deflated 33%)\n",
            "  adding: usr/query_3/query_thr39.sql (deflated 32%)\n",
            "  adding: usr/query_3/query_thr10.sql (deflated 33%)\n",
            "  adding: usr/query_3/query_thr4.sql (deflated 33%)\n",
            "  adding: usr/query_3/query_thr6.sql (deflated 32%)\n",
            "  adding: usr/query_3/query_thr34.sql (deflated 32%)\n",
            "  adding: usr/query_3/query_thr5.sql (deflated 32%)\n",
            "  adding: usr/query_3/query_thr3.sql (deflated 32%)\n",
            "  adding: usr/query_3/query_thr29.sql (deflated 33%)\n",
            "  adding: usr/query_3/query_thr14.sql (deflated 33%)\n",
            "  adding: usr/query_3/query_thr16.sql (deflated 33%)\n",
            "  adding: usr/query_3/query_thr46.sql (deflated 33%)\n",
            "  adding: usr/query_3/query_thr20.sql (deflated 33%)\n",
            "  adding: usr/query_3/query_thr27.sql (deflated 32%)\n",
            "  adding: usr/query_3/query_thr11.sql (deflated 31%)\n",
            "  adding: usr/query_3/query_thr25.sql (deflated 31%)\n",
            "  adding: usr/query_3/query_thr28.sql (deflated 32%)\n",
            "  adding: usr/query_3/query_thr19.sql (deflated 32%)\n",
            "  adding: usr/query_3/query_thr32.sql (deflated 33%)\n",
            "  adding: usr/query_3/query_thr44.sql (deflated 32%)\n",
            "  adding: usr/query_3/query_thr21.sql (deflated 33%)\n",
            "  adding: usr/query_3/query_thr33.sql (deflated 33%)\n",
            "  adding: usr/query_3/query_thr41.sql (deflated 33%)\n",
            "  adding: usr/query_3/query_thr40.sql (deflated 31%)\n",
            "  adding: usr/query_3/query_thr23.sql (deflated 33%)\n",
            "  adding: usr/query_3/query_thr18.sql (deflated 32%)\n",
            "  adding: usr/query_3/query_thr22.sql (deflated 33%)\n"
          ]
        }
      ]
    }
  ],
  "metadata": {
    "orig_nbformat": 4,
    "language_info": {
      "name": "python",
      "version": "3.7.4",
      "mimetype": "text/x-python",
      "codemirror_mode": {
        "name": "ipython",
        "version": 3
      },
      "pygments_lexer": "ipython3",
      "nbconvert_exporter": "python",
      "file_extension": ".py"
    },
    "kernelspec": {
      "name": "python3",
      "display_name": "Python 3.7.4 64-bit ('base': conda)"
    },
    "interpreter": {
      "hash": "a5e9669fc23686289bab8faee75cf5c458b29840ff2a1c38e2ed113a10858e16"
    },
    "colab": {
      "name": "query_sc.ipynb",
      "provenance": [],
      "collapsed_sections": []
    }
  },
  "nbformat": 4,
  "nbformat_minor": 0
}